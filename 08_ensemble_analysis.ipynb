{
 "cells": [
  {
   "cell_type": "code",
   "execution_count": 60,
   "id": "0ec714c9",
   "metadata": {},
   "outputs": [],
   "source": [
    "import shap\n",
    "import pickle\n",
    "\n",
    "import pandas as pd\n",
    "import numpy as np\n",
    "import seaborn as sns\n",
    "import matplotlib.pyplot as plt\n",
    "\n",
    "from ydata_profiling import ProfileReport\n",
    "from deepchecks.tabular import Dataset\n",
    "from deepchecks.tabular.checks import FeatureDrift\n",
    "\n",
    "from sklearn.model_selection import train_test_split\n",
    "from sklearn.utils.multiclass import unique_labels\n",
    "from sklearn.model_selection import train_test_split\n",
    "from sklearn.metrics import classification_report, accuracy_score, confusion_matrix\n",
    "from sklearn.preprocessing import LabelEncoder\n",
    "from catboost import (\n",
    "    CatBoostRegressor,\n",
    "    CatBoostClassifier,\n",
    "    Pool, \n",
    "    cv, \n",
    "    EShapCalcType, \n",
    "    EFeaturesSelectionAlgorithm\n",
    ")\n",
    "\n",
    "\n",
    "pd.set_option('display.max_rows', None)\n",
    "pd.set_option('display.max_columns', 200)"
   ]
  },
  {
   "cell_type": "markdown",
   "id": "9827f7e6",
   "metadata": {},
   "source": [
    "# Функции"
   ]
  },
  {
   "cell_type": "markdown",
   "id": "eb50051a",
   "metadata": {},
   "source": [
    "### Функция для расчета метрики"
   ]
  },
  {
   "cell_type": "code",
   "execution_count": 61,
   "id": "6914bfa4",
   "metadata": {
    "tags": []
   },
   "outputs": [],
   "source": [
    "def weighted_mean_absolute_error(y_true, y_pred, weights):\n",
    "\n",
    "    '''\n",
    "\n",
    "    Weighted mean absolute error.\n",
    "\n",
    "    Parameters\n",
    "    ----------\n",
    "    y_true: ndarray\n",
    "        Ground truth\n",
    "    y_pred: ndarray\n",
    "        Array of predictions\n",
    "\n",
    "    Returns\n",
    "    -------\n",
    "    rmsle: float\n",
    "        Weighted mean absolute error\n",
    "\n",
    "    References\n",
    "    ----------\n",
    "    .. [1] https://kaggle-metrics.readthedocs.io/en/latest/_modules/kaggle_metrics/regression.html\n",
    "\n",
    "    '''\n",
    "    \n",
    "    return (weights * np.abs(y_true - y_pred)).mean()"
   ]
  },
  {
   "cell_type": "markdown",
   "id": "ca28312d",
   "metadata": {},
   "source": [
    "### Функция для обучения базовой модели"
   ]
  },
  {
   "cell_type": "code",
   "execution_count": 62,
   "id": "83dc6f3a",
   "metadata": {},
   "outputs": [],
   "source": [
    "def fit_catboost_clf(features_train, \n",
    "                 features_val, \n",
    "                 target_train, \n",
    "                 target_val, \n",
    "                 cat_features, \n",
    "                 n_iter=None,\n",
    "                 lr=None,\n",
    "                 loss='MultiClass',\n",
    "                 plot=True,\n",
    "                 train_weight=None,\n",
    "                 val_weight=None):\n",
    "    \n",
    "    pool_train = Pool(\n",
    "        features_train,\n",
    "        target_train,\n",
    "        weight = train_weight,\n",
    "        cat_features = cat_features\n",
    "    )\n",
    "\n",
    "    pool_val = Pool(\n",
    "        features_val,\n",
    "        target_val,\n",
    "        weight = val_weight,\n",
    "        cat_features = cat_features\n",
    "    )\n",
    "\n",
    "    model = CatBoostClassifier(\n",
    "        iterations = n_iter,\n",
    "        learning_rate = lr,\n",
    "        loss_function = loss,\n",
    "        random_seed = 42\n",
    "    )\n",
    "\n",
    "    model.fit(\n",
    "        pool_train,\n",
    "        eval_set=pool_val,\n",
    "        verbose=100,\n",
    "        early_stopping_rounds = 15,\n",
    "        plot=plot\n",
    "    )\n",
    "\n",
    "    return model\n",
    "\n",
    "def fit_catboost_reg(features_train, \n",
    "                 features_val, \n",
    "                 target_train, \n",
    "                 target_val, \n",
    "                 cat_features, \n",
    "                 n_iter=500,\n",
    "                 train_weight=None,\n",
    "                 val_weight=None):\n",
    "    \n",
    "    pool_train = Pool(\n",
    "        features_train,\n",
    "        target_train,\n",
    "        weight = train_weight,\n",
    "        cat_features = cat_features\n",
    "    )\n",
    "\n",
    "    pool_val = Pool(\n",
    "        features_val,\n",
    "        target_val,\n",
    "        weight = val_weight,\n",
    "        cat_features = cat_features\n",
    "    )\n",
    "\n",
    "    model = CatBoostRegressor(\n",
    "        iterations= n_iter,\n",
    "        learning_rate=0.05,\n",
    "        loss_function='RMSE',\n",
    "        random_seed = 42\n",
    "    )\n",
    "\n",
    "    model.fit(\n",
    "        pool_train,\n",
    "        eval_set=pool_val,\n",
    "        verbose=100,\n",
    "        early_stopping_rounds = 15,\n",
    "        plot=True\n",
    "    )\n",
    "\n",
    "    return model"
   ]
  },
  {
   "cell_type": "markdown",
   "id": "7cb6e231",
   "metadata": {},
   "source": [
    "# Чтение данных"
   ]
  },
  {
   "cell_type": "code",
   "execution_count": 63,
   "id": "7a154acf",
   "metadata": {},
   "outputs": [
    {
     "data": {
      "text/plain": [
       "((205962, 235), (37183, 233))"
      ]
     },
     "execution_count": 63,
     "metadata": {},
     "output_type": "execute_result"
    }
   ],
   "source": [
    "train_df = pd.read_csv('data/train.csv', sep=\";\", decimal=\",\", encoding=\"windows-1251\")\n",
    "test_df = pd.read_csv('data/test.csv', sep=\";\", decimal=\",\", encoding=\"windows-1251\")\n",
    "\n",
    "features_description = (\n",
    "    pd.read_excel('data/description.xlsx', index_col='field')\n",
    "    .to_dict()['description']\n",
    ")\n",
    "\n",
    "train_df.shape, test_df.shape"
   ]
  },
  {
   "cell_type": "markdown",
   "id": "8241b05b",
   "metadata": {},
   "source": [
    "# Предварительный анализ EDA"
   ]
  },
  {
   "cell_type": "code",
   "execution_count": 64,
   "id": "435df75d",
   "metadata": {},
   "outputs": [
    {
     "data": {
      "text/html": [
       "<div>\n",
       "<style scoped>\n",
       "    .dataframe tbody tr th:only-of-type {\n",
       "        vertical-align: middle;\n",
       "    }\n",
       "\n",
       "    .dataframe tbody tr th {\n",
       "        vertical-align: top;\n",
       "    }\n",
       "\n",
       "    .dataframe thead th {\n",
       "        text-align: right;\n",
       "    }\n",
       "</style>\n",
       "<table border=\"1\" class=\"dataframe\">\n",
       "  <thead>\n",
       "    <tr style=\"text-align: right;\">\n",
       "      <th></th>\n",
       "      <th>addrref</th>\n",
       "      <th>bki_total_ip_max_limit</th>\n",
       "      <th>hdb_bki_active_cc_cnt</th>\n",
       "      <th>hdb_bki_active_ip_max_outstand</th>\n",
       "      <th>hdb_bki_active_micro_max_outstand</th>\n",
       "      <th>hdb_bki_active_pil_max_overdue</th>\n",
       "      <th>hdb_bki_other_active_auto_month_payments_sum</th>\n",
       "      <th>hdb_bki_total_cc_max_limit</th>\n",
       "      <th>hdb_bki_total_ip_cnt</th>\n",
       "      <th>hdb_bki_total_max_limit</th>\n",
       "      <th>hdb_bki_total_max_overdue_sum</th>\n",
       "      <th>hdb_bki_total_pil_max_limit</th>\n",
       "      <th>main_last_position_ccode</th>\n",
       "      <th>main_pre_last_position_ccode</th>\n",
       "      <th>oldest_campaignsegment_ccode_for_nss</th>\n",
       "      <th>oldest_campaignsegment_ccode_for_pil</th>\n",
       "      <th>part_last_position_ccode</th>\n",
       "      <th>part_pre_last_position_ccode</th>\n",
       "      <th>segment</th>\n",
       "      <th>brand</th>\n",
       "      <th>model</th>\n",
       "    </tr>\n",
       "  </thead>\n",
       "  <tbody>\n",
       "    <tr>\n",
       "      <th>0</th>\n",
       "      <td>Свердловская область</td>\n",
       "      <td>NaN</td>\n",
       "      <td>2.0</td>\n",
       "      <td>1006774.6</td>\n",
       "      <td>NaN</td>\n",
       "      <td>0.0</td>\n",
       "      <td>NaN</td>\n",
       "      <td>170000.0</td>\n",
       "      <td>1.0</td>\n",
       "      <td>4250000.0</td>\n",
       "      <td>235937.0</td>\n",
       "      <td>220000.0</td>\n",
       "      <td>NaN</td>\n",
       "      <td>NaN</td>\n",
       "      <td>NaN</td>\n",
       "      <td>PIL2CC</td>\n",
       "      <td>NaN</td>\n",
       "      <td>NaN</td>\n",
       "      <td>Mass Affluent</td>\n",
       "      <td>NaN</td>\n",
       "      <td>NaN</td>\n",
       "    </tr>\n",
       "    <tr>\n",
       "      <th>1</th>\n",
       "      <td>Новосибирская область</td>\n",
       "      <td>NaN</td>\n",
       "      <td>6.0</td>\n",
       "      <td>NaN</td>\n",
       "      <td>NaN</td>\n",
       "      <td>0.0</td>\n",
       "      <td>NaN</td>\n",
       "      <td>110000.0</td>\n",
       "      <td>0.0</td>\n",
       "      <td>183500.0</td>\n",
       "      <td>2527.0</td>\n",
       "      <td>183500.0</td>\n",
       "      <td>NaN</td>\n",
       "      <td>NaN</td>\n",
       "      <td>ACFYN_NZP</td>\n",
       "      <td>PIL2PIL</td>\n",
       "      <td>NaN</td>\n",
       "      <td>NaN</td>\n",
       "      <td>Mass Affluent</td>\n",
       "      <td>NaN</td>\n",
       "      <td>NaN</td>\n",
       "    </tr>\n",
       "    <tr>\n",
       "      <th>2</th>\n",
       "      <td>Новосибирская область</td>\n",
       "      <td>NaN</td>\n",
       "      <td>4.0</td>\n",
       "      <td>NaN</td>\n",
       "      <td>NaN</td>\n",
       "      <td>0.0</td>\n",
       "      <td>NaN</td>\n",
       "      <td>65000.0</td>\n",
       "      <td>0.0</td>\n",
       "      <td>558500.0</td>\n",
       "      <td>7678.0</td>\n",
       "      <td>558500.0</td>\n",
       "      <td>NaN</td>\n",
       "      <td>NaN</td>\n",
       "      <td>ACFYN_NZP</td>\n",
       "      <td>PIL2PIL</td>\n",
       "      <td>NaN</td>\n",
       "      <td>NaN</td>\n",
       "      <td>Mass Affluent</td>\n",
       "      <td>NaN</td>\n",
       "      <td>NaN</td>\n",
       "    </tr>\n",
       "    <tr>\n",
       "      <th>3</th>\n",
       "      <td>Московская область</td>\n",
       "      <td>NaN</td>\n",
       "      <td>0.0</td>\n",
       "      <td>646694.0</td>\n",
       "      <td>NaN</td>\n",
       "      <td>NaN</td>\n",
       "      <td>NaN</td>\n",
       "      <td>0.0</td>\n",
       "      <td>3.0</td>\n",
       "      <td>1780000.0</td>\n",
       "      <td>0.0</td>\n",
       "      <td>427000.0</td>\n",
       "      <td>NaN</td>\n",
       "      <td>NaN</td>\n",
       "      <td>ACFYN_NZP</td>\n",
       "      <td>PIL2PAY</td>\n",
       "      <td>NaN</td>\n",
       "      <td>NaN</td>\n",
       "      <td>Mass Affluent</td>\n",
       "      <td>NaN</td>\n",
       "      <td>NaN</td>\n",
       "    </tr>\n",
       "    <tr>\n",
       "      <th>4</th>\n",
       "      <td>Краснодарский край</td>\n",
       "      <td>NaN</td>\n",
       "      <td>3.0</td>\n",
       "      <td>NaN</td>\n",
       "      <td>NaN</td>\n",
       "      <td>14264.13</td>\n",
       "      <td>NaN</td>\n",
       "      <td>62500.0</td>\n",
       "      <td>0.0</td>\n",
       "      <td>1120000.0</td>\n",
       "      <td>14264.13</td>\n",
       "      <td>1120000.0</td>\n",
       "      <td>NaN</td>\n",
       "      <td>NaN</td>\n",
       "      <td>ACFYN_NZP</td>\n",
       "      <td>PIL2PAY</td>\n",
       "      <td>NaN</td>\n",
       "      <td>NaN</td>\n",
       "      <td>Mass</td>\n",
       "      <td>NaN</td>\n",
       "      <td>NaN</td>\n",
       "    </tr>\n",
       "  </tbody>\n",
       "</table>\n",
       "</div>"
      ],
      "text/plain": [
       "                 addrref bki_total_ip_max_limit hdb_bki_active_cc_cnt  \\\n",
       "0   Свердловская область                    NaN                   2.0   \n",
       "1  Новосибирская область                    NaN                   6.0   \n",
       "2  Новосибирская область                    NaN                   4.0   \n",
       "3     Московская область                    NaN                   0.0   \n",
       "4     Краснодарский край                    NaN                   3.0   \n",
       "\n",
       "  hdb_bki_active_ip_max_outstand hdb_bki_active_micro_max_outstand  \\\n",
       "0                      1006774.6                               NaN   \n",
       "1                            NaN                               NaN   \n",
       "2                            NaN                               NaN   \n",
       "3                       646694.0                               NaN   \n",
       "4                            NaN                               NaN   \n",
       "\n",
       "  hdb_bki_active_pil_max_overdue hdb_bki_other_active_auto_month_payments_sum  \\\n",
       "0                            0.0                                          NaN   \n",
       "1                            0.0                                          NaN   \n",
       "2                            0.0                                          NaN   \n",
       "3                            NaN                                          NaN   \n",
       "4                       14264.13                                          NaN   \n",
       "\n",
       "  hdb_bki_total_cc_max_limit hdb_bki_total_ip_cnt hdb_bki_total_max_limit  \\\n",
       "0                   170000.0                  1.0               4250000.0   \n",
       "1                   110000.0                  0.0                183500.0   \n",
       "2                    65000.0                  0.0                558500.0   \n",
       "3                        0.0                  3.0               1780000.0   \n",
       "4                    62500.0                  0.0               1120000.0   \n",
       "\n",
       "  hdb_bki_total_max_overdue_sum hdb_bki_total_pil_max_limit  \\\n",
       "0                      235937.0                    220000.0   \n",
       "1                        2527.0                    183500.0   \n",
       "2                        7678.0                    558500.0   \n",
       "3                           0.0                    427000.0   \n",
       "4                      14264.13                   1120000.0   \n",
       "\n",
       "  main_last_position_ccode main_pre_last_position_ccode  \\\n",
       "0                      NaN                          NaN   \n",
       "1                      NaN                          NaN   \n",
       "2                      NaN                          NaN   \n",
       "3                      NaN                          NaN   \n",
       "4                      NaN                          NaN   \n",
       "\n",
       "  oldest_campaignsegment_ccode_for_nss oldest_campaignsegment_ccode_for_pil  \\\n",
       "0                                  NaN                               PIL2CC   \n",
       "1                            ACFYN_NZP                              PIL2PIL   \n",
       "2                            ACFYN_NZP                              PIL2PIL   \n",
       "3                            ACFYN_NZP                              PIL2PAY   \n",
       "4                            ACFYN_NZP                              PIL2PAY   \n",
       "\n",
       "  part_last_position_ccode part_pre_last_position_ccode        segment brand  \\\n",
       "0                      NaN                          NaN  Mass Affluent   NaN   \n",
       "1                      NaN                          NaN  Mass Affluent   NaN   \n",
       "2                      NaN                          NaN  Mass Affluent   NaN   \n",
       "3                      NaN                          NaN  Mass Affluent   NaN   \n",
       "4                      NaN                          NaN           Mass   NaN   \n",
       "\n",
       "  model  \n",
       "0   NaN  \n",
       "1   NaN  \n",
       "2   NaN  \n",
       "3   NaN  \n",
       "4   NaN  "
      ]
     },
     "execution_count": 64,
     "metadata": {},
     "output_type": "execute_result"
    }
   ],
   "source": [
    "features = list(train_df.drop(['client_id', 'feature_date', 'target', 'w'], axis=1).columns)\n",
    "train_df[features].select_dtypes('object').head()"
   ]
  },
  {
   "cell_type": "markdown",
   "id": "4767d510",
   "metadata": {},
   "source": [
    "### Поправляем типы данных для фичей"
   ]
  },
  {
   "cell_type": "code",
   "execution_count": 65,
   "id": "78752b16",
   "metadata": {},
   "outputs": [
    {
     "name": "stdout",
     "output_type": "stream",
     "text": [
      "Количество униклаьных значений по фиче:\n",
      "addrref: 59\n",
      "bki_total_ip_max_limit: 2763\n",
      "hdb_bki_active_cc_cnt: 60\n",
      "hdb_bki_active_ip_max_outstand: 43267\n",
      "hdb_bki_active_micro_max_outstand: 5458\n",
      "hdb_bki_active_pil_max_overdue: 24365\n",
      "hdb_bki_other_active_auto_month_payments_sum: 3533\n",
      "hdb_bki_total_cc_max_limit: 9991\n",
      "hdb_bki_total_ip_cnt: 15\n",
      "hdb_bki_total_max_limit: 52263\n",
      "hdb_bki_total_max_overdue_sum: 56162\n",
      "hdb_bki_total_pil_max_limit: 54202\n",
      "main_last_position_ccode: 9207\n",
      "main_pre_last_position_ccode: 5192\n",
      "oldest_campaignsegment_ccode_for_nss: 56\n",
      "oldest_campaignsegment_ccode_for_pil: 13\n",
      "part_last_position_ccode: 1236\n",
      "part_pre_last_position_ccode: 1325\n",
      "segment: 3\n",
      "brand: 422\n",
      "model: 2397\n"
     ]
    }
   ],
   "source": [
    "print('Количество униклаьных значений по фиче:')\n",
    "for f in train_df[features].select_dtypes('object').columns:\n",
    "    print(f\"{f}: {train_df[f].value_counts().count()}\")"
   ]
  },
  {
   "cell_type": "code",
   "execution_count": 66,
   "id": "41101cc1",
   "metadata": {},
   "outputs": [
    {
     "name": "stdout",
     "output_type": "stream",
     "text": [
      "<class 'pandas.core.frame.DataFrame'>\n",
      "RangeIndex: 205962 entries, 0 to 205961\n",
      "Columns: 235 entries, client_id to productionyear\n",
      "dtypes: datetime64[ns](1), float64(223), int64(1), object(10)\n",
      "memory usage: 369.3+ MB\n"
     ]
    }
   ],
   "source": [
    "newtype_feats = [\n",
    "    'bki_total_ip_max_limit',\n",
    "    'hdb_bki_active_cc_cnt',\n",
    "    'hdb_bki_active_ip_max_outstand',\n",
    "    'hdb_bki_active_micro_max_outstand',\n",
    "    'hdb_bki_active_pil_max_overdue',\n",
    "    'hdb_bki_other_active_auto_month_payments_sum',\n",
    "    'hdb_bki_total_cc_max_limit',\n",
    "    'hdb_bki_total_ip_cnt',\n",
    "    'hdb_bki_total_max_limit',\n",
    "    'hdb_bki_total_max_overdue_sum',\n",
    "    'hdb_bki_total_pil_max_limit'\n",
    "]\n",
    "\n",
    "test_df[newtype_feats] = test_df[newtype_feats].astype('float64')\n",
    "test_df['feature_date'] = test_df['feature_date'].astype('datetime64[ns]')\n",
    "\n",
    "train_df[newtype_feats] = train_df[newtype_feats].astype('float64')\n",
    "train_df['feature_date'] = train_df['feature_date'].astype('datetime64[ns]')\n",
    "train_df.info()"
   ]
  },
  {
   "cell_type": "code",
   "execution_count": 67,
   "id": "12091ea7",
   "metadata": {},
   "outputs": [
    {
     "data": {
      "text/plain": [
       "(231, 10, 221)"
      ]
     },
     "execution_count": 67,
     "metadata": {},
     "output_type": "execute_result"
    }
   ],
   "source": [
    "cat_features = list(train_df[features].select_dtypes('object').columns)\n",
    "num_features = list(set(features) - set(cat_features))\n",
    "\n",
    "len(features), len(cat_features), len(num_features)"
   ]
  },
  {
   "cell_type": "markdown",
   "id": "77f95c24",
   "metadata": {},
   "source": [
    "### Анализ категорильных фичей"
   ]
  },
  {
   "cell_type": "code",
   "execution_count": 68,
   "id": "dd5bad5e",
   "metadata": {},
   "outputs": [
    {
     "data": {
      "text/plain": [
       "(4184, 235)"
      ]
     },
     "execution_count": 68,
     "metadata": {},
     "output_type": "execute_result"
    }
   ],
   "source": [
    "# сколько всего записей, где известна должность, но не известна зп?\n",
    "train_df.loc[\n",
    "    (train_df['worksalary_rur_amt'].isna())\n",
    "    & (~train_df['part_last_position_ccode'].isna())\n",
    "].shape"
   ]
  },
  {
   "cell_type": "code",
   "execution_count": 69,
   "id": "303fd81f",
   "metadata": {},
   "outputs": [
    {
     "data": {
      "text/html": [
       "<div>\n",
       "<style scoped>\n",
       "    .dataframe tbody tr th:only-of-type {\n",
       "        vertical-align: middle;\n",
       "    }\n",
       "\n",
       "    .dataframe tbody tr th {\n",
       "        vertical-align: top;\n",
       "    }\n",
       "\n",
       "    .dataframe thead th {\n",
       "        text-align: right;\n",
       "    }\n",
       "</style>\n",
       "<table border=\"1\" class=\"dataframe\">\n",
       "  <thead>\n",
       "    <tr style=\"text-align: right;\">\n",
       "      <th></th>\n",
       "      <th>part_last_position_ccode</th>\n",
       "      <th>median_worksalary_rur_amt</th>\n",
       "    </tr>\n",
       "  </thead>\n",
       "  <tbody>\n",
       "    <tr>\n",
       "      <th>0</th>\n",
       "      <td>АВТОМЕХАНИК</td>\n",
       "      <td>158892.5</td>\n",
       "    </tr>\n",
       "    <tr>\n",
       "      <th>1</th>\n",
       "      <td>АДМИНИСТРАТОР</td>\n",
       "      <td>180000.0</td>\n",
       "    </tr>\n",
       "    <tr>\n",
       "      <th>2</th>\n",
       "      <td>АНАЛИТИК</td>\n",
       "      <td>100000.0</td>\n",
       "    </tr>\n",
       "    <tr>\n",
       "      <th>3</th>\n",
       "      <td>Администратор</td>\n",
       "      <td>60000.0</td>\n",
       "    </tr>\n",
       "    <tr>\n",
       "      <th>4</th>\n",
       "      <td>Администратор магазина</td>\n",
       "      <td>70000.0</td>\n",
       "    </tr>\n",
       "  </tbody>\n",
       "</table>\n",
       "</div>"
      ],
      "text/plain": [
       "  part_last_position_ccode  median_worksalary_rur_amt\n",
       "0              АВТОМЕХАНИК                   158892.5\n",
       "1            АДМИНИСТРАТОР                   180000.0\n",
       "2                 АНАЛИТИК                   100000.0\n",
       "3            Администратор                    60000.0\n",
       "4   Администратор магазина                    70000.0"
      ]
     },
     "execution_count": 69,
     "metadata": {},
     "output_type": "execute_result"
    }
   ],
   "source": [
    "# df, содержащий медианные зарплаты для должностей по всем данным\n",
    "median_worksalary = (\n",
    "    pd.concat([train_df[features], test_df[features]], axis=0)\n",
    "    .dropna(subset = 'worksalary_rur_amt')\n",
    "    .groupby('part_last_position_ccode', as_index=False)\n",
    "    ['worksalary_rur_amt'].median()\n",
    "    .rename(columns={'worksalary_rur_amt': 'median_worksalary_rur_amt'})\n",
    ")\n",
    "median_worksalary.head()"
   ]
  },
  {
   "cell_type": "code",
   "execution_count": 70,
   "id": "abbb4e25",
   "metadata": {},
   "outputs": [
    {
     "data": {
      "text/plain": [
       "(1029, 235)"
      ]
     },
     "execution_count": 70,
     "metadata": {},
     "output_type": "execute_result"
    }
   ],
   "source": [
    "test_df = test_df.merge(median_worksalary, on='part_last_position_ccode', how='left')\n",
    "test_df['worksalary_rur_amt'] = test_df['worksalary_rur_amt'].fillna(test_df['median_worksalary_rur_amt'])\n",
    "test_df.drop('median_worksalary_rur_amt', axis=1, inplace=True)\n",
    "\n",
    "train_df = train_df.merge(median_worksalary, on='part_last_position_ccode', how='left')\n",
    "train_df['worksalary_rur_amt'] = train_df['worksalary_rur_amt'].fillna(train_df['median_worksalary_rur_amt'])\n",
    "train_df.drop('median_worksalary_rur_amt', axis=1, inplace=True)\n",
    "\n",
    "train_df.loc[\n",
    "    (train_df['worksalary_rur_amt'].isna())\n",
    "    & (~train_df['part_last_position_ccode'].isna())\n",
    "].shape"
   ]
  },
  {
   "cell_type": "code",
   "execution_count": 71,
   "id": "cbac270a",
   "metadata": {},
   "outputs": [],
   "source": [
    "# заполняем пропуски в категориальных\n",
    "train_df[cat_features] = train_df[cat_features].fillna('miss_value')\n",
    "test_df[cat_features] = test_df[cat_features].fillna('miss_value')"
   ]
  },
  {
   "cell_type": "markdown",
   "id": "f46aab5e",
   "metadata": {},
   "source": [
    "# Инженерия фич"
   ]
  },
  {
   "cell_type": "code",
   "execution_count": 72,
   "id": "dbc429a9",
   "metadata": {},
   "outputs": [],
   "source": [
    "train_df['feature_date_year'] = train_df['feature_date'].dt.year\n",
    "train_df['feature_date_month'] = train_df['feature_date'].dt.month\n",
    "train_df['feature_date_day'] = train_df['feature_date'].dt.day\n",
    "\n",
    "test_df['feature_date_year'] = test_df['feature_date'].dt.year\n",
    "test_df['feature_date_month'] = test_df['feature_date'].dt.month\n",
    "test_df['feature_date_day'] = test_df['feature_date'].dt.day"
   ]
  },
  {
   "cell_type": "code",
   "execution_count": 73,
   "id": "8bbd31b4",
   "metadata": {},
   "outputs": [
    {
     "data": {
      "text/plain": [
       "(234, 10, 224)"
      ]
     },
     "execution_count": 73,
     "metadata": {},
     "output_type": "execute_result"
    }
   ],
   "source": [
    "features = list(train_df.drop(['client_id', 'feature_date', 'target', 'w'], axis=1).columns)\n",
    "\n",
    "cat_features = list(train_df[features].select_dtypes('object').columns)\n",
    "num_features = list(set(features) - set(cat_features))\n",
    "\n",
    "len(features), len(cat_features), len(num_features)"
   ]
  },
  {
   "cell_type": "markdown",
   "id": "c81e1f74",
   "metadata": {},
   "source": [
    "# Пайплайн с границами 0.7 0.9"
   ]
  },
  {
   "cell_type": "code",
   "execution_count": 74,
   "id": "eb5e5c93",
   "metadata": {},
   "outputs": [
    {
     "data": {
      "application/vnd.jupyter.widget-view+json": {
       "model_id": "194f5dc0089b4c4182fc6122a85a3b34",
       "version_major": 2,
       "version_minor": 0
      },
      "text/plain": [
       "MetricVisualizer(layout=Layout(align_self='stretch', height='500px'))"
      ]
     },
     "metadata": {},
     "output_type": "display_data"
    },
    {
     "name": "stdout",
     "output_type": "stream",
     "text": [
      "0:\tlearn: 1.0508377\ttest: 1.0510563\tbest: 1.0510563 (0)\ttotal: 358ms\tremaining: 1m 47s\n",
      "100:\tlearn: 0.4987629\ttest: 0.5039129\tbest: 0.5039129 (100)\ttotal: 36.8s\tremaining: 1m 12s\n",
      "200:\tlearn: 0.4698756\ttest: 0.4776805\tbest: 0.4776805 (200)\ttotal: 1m 12s\tremaining: 35.7s\n",
      "299:\tlearn: 0.4541295\ttest: 0.4649459\tbest: 0.4649459 (299)\ttotal: 1m 46s\tremaining: 0us\n",
      "\n",
      "bestTest = 0.4649458838\n",
      "bestIteration = 299\n",
      "\n"
     ]
    }
   ],
   "source": [
    "# классификатор\n",
    "train_df['target_bins'] = None\n",
    "train_df.loc[train_df['target'] <= train_df['target'].quantile(0.7), 'target_bins'] = 'bin_0'\n",
    "train_df.loc[\n",
    "    (train_df['target'] > train_df['target'].quantile(0.7))\n",
    "    & (train_df['target'] <= train_df['target'].quantile(0.9)), \n",
    "    'target_bins'\n",
    "] = 'bin_1'\n",
    "train_df.loc[train_df['target'] > train_df['target'].quantile(0.9), 'target_bins'] = 'bin_2'\n",
    "\n",
    "le = LabelEncoder()\n",
    "train_df['target_bins'] = le.fit_transform(train_df['target_bins'])\n",
    "\n",
    "features_train, features_val, target_train_clf, target_val_clf, target_train_reg, target_val_reg, w_train, w_val = train_test_split(\n",
    "    train_df[features],\n",
    "    train_df['target_bins'], \n",
    "    train_df['target'], \n",
    "    train_df['w'], \n",
    "    stratify=train_df['target_bins'],\n",
    "    test_size=0.3,\n",
    "    random_state=42\n",
    ")\n",
    "\n",
    "model = fit_catboost_clf(features_train, features_val, target_train_clf, target_val_clf, cat_features, 300, 0.05)\n",
    "pred_val_clf = model.predict(features_val)[:,0]"
   ]
  },
  {
   "cell_type": "code",
   "execution_count": 82,
   "id": "df6948de",
   "metadata": {},
   "outputs": [
    {
     "data": {
      "application/vnd.jupyter.widget-view+json": {
       "model_id": "4699e8d35d3543d581bc030d0afeea8b",
       "version_major": 2,
       "version_minor": 0
      },
      "text/plain": [
       "MetricVisualizer(layout=Layout(align_self='stretch', height='500px'))"
      ]
     },
     "metadata": {},
     "output_type": "display_data"
    },
    {
     "name": "stdout",
     "output_type": "stream",
     "text": [
      "0:\tlearn: 19324.2404085\ttest: 48656.4009928\tbest: 48656.4009928 (0)\ttotal: 135ms\tremaining: 53.7s\n",
      "100:\tlearn: 14941.8385122\ttest: 46540.7311766\tbest: 46540.7311766 (100)\ttotal: 12.1s\tremaining: 35.9s\n",
      "200:\tlearn: 14614.7583484\ttest: 46306.0400891\tbest: 46306.0400891 (200)\ttotal: 24s\tremaining: 23.8s\n",
      "300:\tlearn: 14400.5105194\ttest: 46177.6697602\tbest: 46177.6697602 (300)\ttotal: 35.5s\tremaining: 11.7s\n",
      "399:\tlearn: 14238.9336723\ttest: 46086.4993178\tbest: 46086.4993178 (399)\ttotal: 47s\tremaining: 0us\n",
      "\n",
      "bestTest = 46086.49932\n",
      "bestIteration = 399\n",
      "\n",
      "WMAE = 17237.30\n",
      "Overfit: 31847.565645531402\n"
     ]
    },
    {
     "data": {
      "application/vnd.jupyter.widget-view+json": {
       "model_id": "68d22db6187041d092e5146d8e97625d",
       "version_major": 2,
       "version_minor": 0
      },
      "text/plain": [
       "MetricVisualizer(layout=Layout(align_self='stretch', height='500px'))"
      ]
     },
     "metadata": {},
     "output_type": "display_data"
    },
    {
     "name": "stdout",
     "output_type": "stream",
     "text": [
      "0:\tlearn: 23569.7480054\ttest: 67114.7661900\tbest: 67114.7661900 (0)\ttotal: 54.6ms\tremaining: 21.8s\n",
      "100:\tlearn: 21158.4015929\ttest: 65247.1767814\tbest: 65247.1767814 (100)\ttotal: 5.97s\tremaining: 17.7s\n",
      "200:\tlearn: 20656.3824536\ttest: 64807.4055291\tbest: 64807.4055291 (200)\ttotal: 11.9s\tremaining: 11.7s\n",
      "300:\tlearn: 20223.0065891\ttest: 64530.5311380\tbest: 64530.5311380 (300)\ttotal: 17.5s\tremaining: 5.76s\n",
      "399:\tlearn: 19888.2776812\ttest: 64372.5088680\tbest: 64372.5088680 (399)\ttotal: 23.5s\tremaining: 0us\n",
      "\n",
      "bestTest = 64372.50887\n",
      "bestIteration = 399\n",
      "\n",
      "WMAE = 40542.79\n",
      "Overfit: 44484.231186812045\n"
     ]
    },
    {
     "data": {
      "application/vnd.jupyter.widget-view+json": {
       "model_id": "0f842a99c8864e1aabd0c8dd794d14d6",
       "version_major": 2,
       "version_minor": 0
      },
      "text/plain": [
       "MetricVisualizer(layout=Layout(align_self='stretch', height='500px'))"
      ]
     },
     "metadata": {},
     "output_type": "display_data"
    },
    {
     "name": "stdout",
     "output_type": "stream",
     "text": [
      "0:\tlearn: 128904.3184923\ttest: 158789.3537295\tbest: 158789.3537295 (0)\ttotal: 43.5ms\tremaining: 17.4s\n",
      "Stopped by overfitting detector  (15 iterations wait)\n",
      "\n",
      "bestTest = 156939.118\n",
      "bestIteration = 21\n",
      "\n",
      "Shrink model to first 22 iterations.\n",
      "WMAE = 159618.93\n",
      "Overfit: 43553.240126636694\n",
      "WMAE = 32396.59\n"
     ]
    }
   ],
   "source": [
    "# модель на нулевом бине\n",
    "bin0_model = fit_catboost_reg(\n",
    "    features_train.loc[target_train_clf == 0], \n",
    "    features_val.loc[pred_val_clf == 0], \n",
    "    target_train_reg.loc[target_train_clf == 0], \n",
    "    target_val_reg.loc[pred_val_clf == 0], \n",
    "    cat_features, \n",
    "    400\n",
    ")\n",
    "WMAE = weighted_mean_absolute_error(\n",
    "    target_val_reg.loc[pred_val_clf == 0], \n",
    "    bin0_model.predict(features_val.loc[pred_val_clf == 0]), \n",
    "    w_val\n",
    ")\n",
    "print(f\"WMAE = {WMAE:.2f}\")\n",
    "print(f\"Overfit: {bin0_model.evals_result_['validation']['RMSE'][-1] - bin0_model.evals_result_['learn']['RMSE'][-1]}\")\n",
    "\n",
    "# модель на первом бине\n",
    "bin1_model = fit_catboost_reg(\n",
    "    features_train.loc[target_train_clf == 1], \n",
    "    features_val.loc[pred_val_clf == 1], \n",
    "    target_train_reg.loc[target_train_clf == 1], \n",
    "    target_val_reg.loc[pred_val_clf == 1], \n",
    "    cat_features, \n",
    "    400\n",
    ")\n",
    "WMAE = weighted_mean_absolute_error(\n",
    "    target_val_reg.loc[pred_val_clf == 1], \n",
    "    bin1_model.predict(features_val.loc[pred_val_clf == 1]), \n",
    "    w_val\n",
    ")\n",
    "print(f\"WMAE = {WMAE:.2f}\")\n",
    "print(f\"Overfit: {bin1_model.evals_result_['validation']['RMSE'][-1] - bin1_model.evals_result_['learn']['RMSE'][-1]}\")\n",
    "\n",
    "# модель на втором бине\n",
    "bin2_model = fit_catboost_reg(\n",
    "    features_train.loc[target_train_clf == 2], \n",
    "    features_val.loc[pred_val_clf == 2], \n",
    "    target_train_reg.loc[target_train_clf == 2], \n",
    "    target_val_reg.loc[pred_val_clf == 2], \n",
    "    cat_features, \n",
    "    400\n",
    ")\n",
    "WMAE = weighted_mean_absolute_error(\n",
    "    target_val_reg.loc[pred_val_clf == 2], \n",
    "    bin2_model.predict(features_val.loc[pred_val_clf == 2]), \n",
    "    w_val\n",
    ")\n",
    "print(f\"WMAE = {WMAE:.2f}\")\n",
    "print(f\"Overfit: {bin2_model.evals_result_['validation']['RMSE'][-1] - bin2_model.evals_result_['learn']['RMSE'][-1]}\")\n",
    "\n",
    "pred = pd.DataFrame(np.nan, index=target_val_reg.index, columns = ['pred'])\n",
    "pred.loc[pred_val_clf == 0, 'pred'] = bin0_model.predict(features_val.loc[pred_val_clf == 0])\n",
    "pred.loc[pred_val_clf == 1, 'pred'] = bin1_model.predict(features_val.loc[pred_val_clf == 1])\n",
    "pred.loc[pred_val_clf == 2, 'pred'] = bin2_model.predict(features_val.loc[pred_val_clf == 2])\n",
    "\n",
    "WMAE = weighted_mean_absolute_error(\n",
    "    target_val_reg, \n",
    "    pred['pred'], \n",
    "    w_val\n",
    ")\n",
    "print(f\"WMAE = {WMAE:.2f}\")"
   ]
  },
  {
   "cell_type": "markdown",
   "id": "c8339efb",
   "metadata": {},
   "source": [
    "# Пайплайн с границами 0.33 0.66"
   ]
  },
  {
   "cell_type": "code",
   "execution_count": 83,
   "id": "a505159b",
   "metadata": {},
   "outputs": [
    {
     "data": {
      "application/vnd.jupyter.widget-view+json": {
       "model_id": "d447861f1e9a4841a8bf56e4c6c9a2ed",
       "version_major": 2,
       "version_minor": 0
      },
      "text/plain": [
       "MetricVisualizer(layout=Layout(align_self='stretch', height='500px'))"
      ]
     },
     "metadata": {},
     "output_type": "display_data"
    },
    {
     "name": "stdout",
     "output_type": "stream",
     "text": [
      "0:\tlearn: 1.0753231\ttest: 1.0751621\tbest: 1.0751621 (0)\ttotal: 357ms\tremaining: 1m 46s\n",
      "100:\tlearn: 0.7236774\ttest: 0.7291114\tbest: 0.7291114 (100)\ttotal: 36.8s\tremaining: 1m 12s\n",
      "200:\tlearn: 0.6894176\ttest: 0.6971997\tbest: 0.6971997 (200)\ttotal: 1m 13s\tremaining: 36.1s\n",
      "299:\tlearn: 0.6718855\ttest: 0.6827396\tbest: 0.6827396 (299)\ttotal: 1m 50s\tremaining: 0us\n",
      "\n",
      "bestTest = 0.6827395623\n",
      "bestIteration = 299\n",
      "\n"
     ]
    }
   ],
   "source": [
    "# классификатор\n",
    "train_df['target_bins'] = None\n",
    "train_df.loc[train_df['target'] <= train_df['target'].quantile(0.33), 'target_bins'] = 'bin_0'\n",
    "train_df.loc[\n",
    "    (train_df['target'] > train_df['target'].quantile(0.33))\n",
    "    & (train_df['target'] <= train_df['target'].quantile(0.66)), \n",
    "    'target_bins'\n",
    "] = 'bin_1'\n",
    "train_df.loc[train_df['target'] > train_df['target'].quantile(0.66), 'target_bins'] = 'bin_2'\n",
    "\n",
    "le = LabelEncoder()\n",
    "train_df['target_bins'] = le.fit_transform(train_df['target_bins'])\n",
    "\n",
    "features_train, features_val, target_train_clf, target_val_clf, target_train_reg, target_val_reg, w_train, w_val = train_test_split(\n",
    "    train_df[features],\n",
    "    train_df['target_bins'], \n",
    "    train_df['target'], \n",
    "    train_df['w'], \n",
    "    stratify=train_df['target_bins'],\n",
    "    test_size=0.3,\n",
    "    random_state=42\n",
    ")\n",
    "\n",
    "model = fit_catboost_clf(features_train, features_val, target_train_clf, target_val_clf, cat_features, 300, 0.05)\n",
    "pred_val_clf = model.predict(features_val)[:,0]"
   ]
  },
  {
   "cell_type": "code",
   "execution_count": 84,
   "id": "bae39990",
   "metadata": {},
   "outputs": [
    {
     "data": {
      "application/vnd.jupyter.widget-view+json": {
       "model_id": "a8c8098410934a66b4bff8e6934d5c37",
       "version_major": 2,
       "version_minor": 0
      },
      "text/plain": [
       "MetricVisualizer(layout=Layout(align_self='stretch', height='500px'))"
      ]
     },
     "metadata": {},
     "output_type": "display_data"
    },
    {
     "name": "stdout",
     "output_type": "stream",
     "text": [
      "0:\tlearn: 11010.4070228\ttest: 47340.5857723\tbest: 47340.5857723 (0)\ttotal: 76.8ms\tremaining: 30.6s\n",
      "100:\tlearn: 8992.3053510\ttest: 47096.2693937\tbest: 47095.6443308 (99)\ttotal: 7.86s\tremaining: 23.3s\n",
      "Stopped by overfitting detector  (15 iterations wait)\n",
      "\n",
      "bestTest = 47091.66385\n",
      "bestIteration = 108\n",
      "\n",
      "Shrink model to first 109 iterations.\n",
      "WMAE = 15863.82\n",
      "Overfit: 38160.45617317821\n"
     ]
    },
    {
     "data": {
      "application/vnd.jupyter.widget-view+json": {
       "model_id": "e28e664078cf48039414e0a624259805",
       "version_major": 2,
       "version_minor": 0
      },
      "text/plain": [
       "MetricVisualizer(layout=Layout(align_self='stretch', height='500px'))"
      ]
     },
     "metadata": {},
     "output_type": "display_data"
    },
    {
     "name": "stdout",
     "output_type": "stream",
     "text": [
      "0:\tlearn: 9340.2884737\ttest: 30909.4274444\tbest: 30909.4274444 (0)\ttotal: 82.4ms\tremaining: 32.9s\n",
      "100:\tlearn: 8564.1837081\ttest: 30472.7258952\tbest: 30472.7258952 (100)\ttotal: 7.79s\tremaining: 23s\n",
      "200:\tlearn: 8414.3126021\ttest: 30360.1645993\tbest: 30360.1645993 (200)\ttotal: 15.4s\tremaining: 15.3s\n",
      "300:\tlearn: 8282.8065821\ttest: 30277.5911133\tbest: 30277.5911133 (300)\ttotal: 23.3s\tremaining: 7.66s\n",
      "399:\tlearn: 8189.5140002\ttest: 30232.2402371\tbest: 30232.1742148 (398)\ttotal: 30.8s\tremaining: 0us\n",
      "\n",
      "bestTest = 30232.17421\n",
      "bestIteration = 398\n",
      "\n",
      "Shrink model to first 399 iterations.\n",
      "WMAE = 8803.73\n",
      "Overfit: 22042.726236841838\n"
     ]
    },
    {
     "data": {
      "application/vnd.jupyter.widget-view+json": {
       "model_id": "dc3d3928786c48238ae7376925ec609f",
       "version_major": 2,
       "version_minor": 0
      },
      "text/plain": [
       "MetricVisualizer(layout=Layout(align_self='stretch', height='500px'))"
      ]
     },
     "metadata": {},
     "output_type": "display_data"
    },
    {
     "name": "stdout",
     "output_type": "stream",
     "text": [
      "0:\tlearn: 110849.6729576\ttest: 117315.3716105\tbest: 117315.3716105 (0)\ttotal: 74.3ms\tremaining: 29.7s\n",
      "100:\tlearn: 83930.5961857\ttest: 95708.8931489\tbest: 95708.8931489 (100)\ttotal: 7.75s\tremaining: 22.9s\n",
      "200:\tlearn: 81223.0135117\ttest: 94359.0854982\tbest: 94359.0854982 (200)\ttotal: 15.8s\tremaining: 15.6s\n",
      "300:\tlearn: 79149.9727652\ttest: 93518.7973551\tbest: 93518.7973551 (300)\ttotal: 23.3s\tremaining: 7.67s\n",
      "399:\tlearn: 77678.9200626\ttest: 93048.5674225\tbest: 93047.1828429 (397)\ttotal: 30.6s\tremaining: 0us\n",
      "\n",
      "bestTest = 93047.18284\n",
      "bestIteration = 397\n",
      "\n",
      "Shrink model to first 398 iterations.\n",
      "WMAE = 65011.40\n",
      "Overfit: 15369.647359837458\n",
      "WMAE = 29703.44\n"
     ]
    }
   ],
   "source": [
    "# модель на нулевом бине\n",
    "bin0_model = fit_catboost_reg(\n",
    "    features_train.loc[target_train_clf == 0], \n",
    "    features_val.loc[pred_val_clf == 0], \n",
    "    target_train_reg.loc[target_train_clf == 0], \n",
    "    target_val_reg.loc[pred_val_clf == 0], \n",
    "    cat_features, \n",
    "    400\n",
    ")\n",
    "WMAE = weighted_mean_absolute_error(\n",
    "    target_val_reg.loc[pred_val_clf == 0], \n",
    "    bin0_model.predict(features_val.loc[pred_val_clf == 0]), \n",
    "    w_val\n",
    ")\n",
    "print(f\"WMAE = {WMAE:.2f}\")\n",
    "print(f\"Overfit: {bin0_model.evals_result_['validation']['RMSE'][-1] - bin0_model.evals_result_['learn']['RMSE'][-1]}\")\n",
    "\n",
    "# модель на первом бине\n",
    "bin1_model = fit_catboost_reg(\n",
    "    features_train.loc[target_train_clf == 1], \n",
    "    features_val.loc[pred_val_clf == 1], \n",
    "    target_train_reg.loc[target_train_clf == 1], \n",
    "    target_val_reg.loc[pred_val_clf == 1], \n",
    "    cat_features, \n",
    "    400\n",
    ")\n",
    "WMAE = weighted_mean_absolute_error(\n",
    "    target_val_reg.loc[pred_val_clf == 1], \n",
    "    bin1_model.predict(features_val.loc[pred_val_clf == 1]), \n",
    "    w_val\n",
    ")\n",
    "print(f\"WMAE = {WMAE:.2f}\")\n",
    "print(f\"Overfit: {bin1_model.evals_result_['validation']['RMSE'][-1] - bin1_model.evals_result_['learn']['RMSE'][-1]}\")\n",
    "\n",
    "# модель на втором бине\n",
    "bin2_model = fit_catboost_reg(\n",
    "    features_train.loc[target_train_clf == 2], \n",
    "    features_val.loc[pred_val_clf == 2], \n",
    "    target_train_reg.loc[target_train_clf == 2], \n",
    "    target_val_reg.loc[pred_val_clf == 2], \n",
    "    cat_features, \n",
    "    400\n",
    ")\n",
    "WMAE = weighted_mean_absolute_error(\n",
    "    target_val_reg.loc[pred_val_clf == 2], \n",
    "    bin2_model.predict(features_val.loc[pred_val_clf == 2]), \n",
    "    w_val\n",
    ")\n",
    "print(f\"WMAE = {WMAE:.2f}\")\n",
    "print(f\"Overfit: {bin2_model.evals_result_['validation']['RMSE'][-1] - bin2_model.evals_result_['learn']['RMSE'][-1]}\")\n",
    "\n",
    "pred = pd.DataFrame(np.nan, index=target_val_reg.index, columns = ['pred'])\n",
    "pred.loc[pred_val_clf == 0, 'pred'] = bin0_model.predict(features_val.loc[pred_val_clf == 0])\n",
    "pred.loc[pred_val_clf == 1, 'pred'] = bin1_model.predict(features_val.loc[pred_val_clf == 1])\n",
    "pred.loc[pred_val_clf == 2, 'pred'] = bin2_model.predict(features_val.loc[pred_val_clf == 2])\n",
    "\n",
    "WMAE = weighted_mean_absolute_error(\n",
    "    target_val_reg, \n",
    "    pred['pred'], \n",
    "    w_val\n",
    ")\n",
    "print(f\"WMAE = {WMAE:.2f}\")"
   ]
  },
  {
   "cell_type": "markdown",
   "id": "ab0c704d",
   "metadata": {},
   "source": [
    "### Вывод:\n",
    "Модель сильнее переобучается на границах 0.7 и 0.9, поэтому итоговая метрика хуже"
   ]
  }
 ],
 "metadata": {
  "kernelspec": {
   "display_name": "Python 3",
   "language": "python",
   "name": "python3"
  },
  "language_info": {
   "codemirror_mode": {
    "name": "ipython",
    "version": 3
   },
   "file_extension": ".py",
   "mimetype": "text/x-python",
   "name": "python",
   "nbconvert_exporter": "python",
   "pygments_lexer": "ipython3",
   "version": "3.11.1"
  }
 },
 "nbformat": 4,
 "nbformat_minor": 5
}
